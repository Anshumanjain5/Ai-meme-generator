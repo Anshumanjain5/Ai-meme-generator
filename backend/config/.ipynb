{
 "cells": [
  {
   "cell_type": "code",
   "execution_count": 3,
   "id": "5aa8691f",
   "metadata": {},
   "outputs": [
    {
     "data": {
      "text/plain": [
       "'c:\\\\AI EVO (Journey)\\\\Ai Agents\\\\AI Meme generator'"
      ]
     },
     "execution_count": 3,
     "metadata": {},
     "output_type": "execute_result"
    }
   ],
   "source": [
    "import os\n",
    "os.path.dirname(os.path.dirname(os.path.abspath(os.getcwd())))"
   ]
  },
  {
   "cell_type": "code",
   "execution_count": null,
   "id": "115630f5",
   "metadata": {},
   "outputs": [
    {
     "ename": "",
     "evalue": "",
     "output_type": "error",
     "traceback": [
      "\u001b[1;31mThe Kernel crashed while executing code in the current cell or a previous cell. \n",
      "\u001b[1;31mPlease review the code in the cell(s) to identify a possible cause of the failure. \n",
      "\u001b[1;31mClick <a href='https://aka.ms/vscodeJupyterKernelCrash'>here</a> for more info. \n",
      "\u001b[1;31mView Jupyter <a href='command:jupyter.viewOutput'>log</a> for further details."
     ]
    }
   ],
   "source": [
    "import cv2\n",
    "\n",
    "img = cv2.imread(r\"C:\\Users\\anshuman\\Downloads\\Bernie-I-Am-Once-Again-Asking-For-Your-Support.jpg\")\n",
    "\n",
    "cv2.imshow(\"Image\", img)"
   ]
  },
  {
   "cell_type": "code",
   "execution_count": 4,
   "id": "d6c6e495",
   "metadata": {},
   "outputs": [
    {
     "data": {
      "text/plain": [
       "'Create a funny and relatable meme using this template. Each text box should feel like a real-life situation, dialogue, or inner thought. Match the tone of Gen Z humor — sarcastic, exaggerated, and meme-friendly. If there are multiple boxes, treat them like parts of a conversation or situation. The final line must deliver the punchline, preferably continuing or twisting the setup in a hilarious or unexpected way.'"
      ]
     },
     "execution_count": 4,
     "metadata": {},
     "output_type": "execute_result"
    }
   ],
   "source": [
    "\"\"\"Create a funny and relatable meme using this template. Each text box should feel like a real-life situation, dialogue, or inner thought. Match the tone of Gen Z humor — sarcastic, exaggerated, and meme-friendly. If there are multiple boxes, treat them like parts of a conversation or situation. The final line must deliver the punchline, preferably continuing or twisting the setup in a hilarious or unexpected way.\"\"\""
   ]
  },
  {
   "cell_type": "code",
   "execution_count": 7,
   "id": "d33f7352",
   "metadata": {},
   "outputs": [
    {
     "name": "stdout",
     "output_type": "stream",
     "text": [
      "Extract all text lines intended for placement in the designated rectangles of a meme template. For each rectangle, identify the corresponding line(s) of text and return the result in a structured JSON format. Label the rectangles sequentially as `'rectangle_1'`, `'rectangle_2'`, etc., and represent each as a list of strings (to allow multiline text where applicable). **If a portion of the text is already embedded in the meme image itself (i.e. part of the background or visual elements), do not include it in the output list.**\n",
      "\n",
      "**Expected JSON structure:**\n",
      "```json\n",
      "{\n",
      "  'rectangle_1': ['Line 1', 'Line 2'],\n",
      "  'rectangle_2': ['Line 1'],\n",
      "  'rectangle_3': []\n",
      "}\n",
      "```\n",
      "\n",
      "Only include rectangle keys that are relevant to the specific meme template. Exclude any text that is part of the static image content.\n"
     ]
    }
   ],
   "source": [
    "import json\n",
    "\n",
    "with open(\"prompt.json\",\"r\") as f:\n",
    "    data = json.load(f)\n",
    "\n",
    "print(data.get(\"system_prompt_json\"))"
   ]
  },
  {
   "cell_type": "code",
   "execution_count": null,
   "id": "0d6c5426",
   "metadata": {},
   "outputs": [],
   "source": []
  }
 ],
 "metadata": {
  "kernelspec": {
   "display_name": "Python 3",
   "language": "python",
   "name": "python3"
  },
  "language_info": {
   "codemirror_mode": {
    "name": "ipython",
    "version": 3
   },
   "file_extension": ".py",
   "mimetype": "text/x-python",
   "name": "python",
   "nbconvert_exporter": "python",
   "pygments_lexer": "ipython3",
   "version": "3.12.9"
  }
 },
 "nbformat": 4,
 "nbformat_minor": 5
}
